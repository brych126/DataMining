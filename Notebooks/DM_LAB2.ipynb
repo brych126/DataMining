{
  "nbformat": 4,
  "nbformat_minor": 0,
  "metadata": {
    "colab": {
      "name": "DM-LAB2.ipynb",
      "provenance": [],
      "collapsed_sections": []
    },
    "kernelspec": {
      "name": "python3",
      "display_name": "Python 3"
    }
  },
  "cells": [
    {
      "cell_type": "markdown",
      "metadata": {
        "id": "T7vUYmK-nP0_"
      },
      "source": [
        "# Лабораторна робота №2 з Видобування даних\n",
        "## Розуміння даних\n",
        "### Мета роботи: навчитися базовому фунукціоналу pandas/matplotlib для числельного і візуального аналізу вхідних даних та їх характеристик"
      ]
    },
    {
      "cell_type": "code",
      "metadata": {
        "colab": {
          "base_uri": "https://localhost:8080/"
        },
        "id": "lNDM3tLHMXQv",
        "outputId": "6c429382-6fee-496d-9e8c-f80799665550"
      },
      "source": [
        "print('Brych Test')"
      ],
      "execution_count": null,
      "outputs": [
        {
          "output_type": "stream",
          "text": [
            "Brych Test\n"
          ],
          "name": "stdout"
        }
      ]
    },
    {
      "cell_type": "markdown",
      "metadata": {
        "id": "hMkBHaEBoRL3"
      },
      "source": [
        "###1.[Завантажте набір даних у колаб](https://towardsdatascience.com/3-ways-to-load-csv-files-into-colab-7c14fcbdcb92), і у data frame за допомогою pandas відобразіть перші 10 записів "
      ]
    },
    {
      "cell_type": "code",
      "metadata": {
        "id": "3yAOJ4KDoc-U",
        "colab": {
          "base_uri": "https://localhost:8080/",
          "height": 464
        },
        "outputId": "439e127a-89a1-40d5-cd73-c2b4639cabea"
      },
      "source": [
        "### Code starts from here ###\r\n",
        "import pandas as pd\r\n",
        "import matplotlib.pyplot as plt\r\n",
        "import seaborn as sns\r\n",
        "url = 'https://raw.githubusercontent.com/brych126/DataMining/main/movies3.csv'\r\n",
        "dataset = pd.read_csv(url, encoding='latin-1')\r\n",
        "dataset.head(10) \r\n"
      ],
      "execution_count": 115,
      "outputs": [
        {
          "output_type": "execute_result",
          "data": {
            "text/html": [
              "<div>\n",
              "<style scoped>\n",
              "    .dataframe tbody tr th:only-of-type {\n",
              "        vertical-align: middle;\n",
              "    }\n",
              "\n",
              "    .dataframe tbody tr th {\n",
              "        vertical-align: top;\n",
              "    }\n",
              "\n",
              "    .dataframe thead th {\n",
              "        text-align: right;\n",
              "    }\n",
              "</style>\n",
              "<table border=\"1\" class=\"dataframe\">\n",
              "  <thead>\n",
              "    <tr style=\"text-align: right;\">\n",
              "      <th></th>\n",
              "      <th>budget</th>\n",
              "      <th>company</th>\n",
              "      <th>country</th>\n",
              "      <th>director</th>\n",
              "      <th>genre</th>\n",
              "      <th>gross</th>\n",
              "      <th>name</th>\n",
              "      <th>rating</th>\n",
              "      <th>released</th>\n",
              "      <th>runtime</th>\n",
              "      <th>score</th>\n",
              "      <th>star</th>\n",
              "      <th>votes</th>\n",
              "      <th>writer</th>\n",
              "      <th>year</th>\n",
              "    </tr>\n",
              "  </thead>\n",
              "  <tbody>\n",
              "    <tr>\n",
              "      <th>0</th>\n",
              "      <td>8000000</td>\n",
              "      <td>Columbia Pictures Corporation</td>\n",
              "      <td>USA</td>\n",
              "      <td>Rob Reiner</td>\n",
              "      <td>Adventure</td>\n",
              "      <td>52287414</td>\n",
              "      <td>Stand by Me</td>\n",
              "      <td>R</td>\n",
              "      <td>8/22/1986</td>\n",
              "      <td>89</td>\n",
              "      <td>8.1</td>\n",
              "      <td>Wil Wheaton</td>\n",
              "      <td>299174</td>\n",
              "      <td>Stephen King</td>\n",
              "      <td>1986</td>\n",
              "    </tr>\n",
              "    <tr>\n",
              "      <th>1</th>\n",
              "      <td>6000000</td>\n",
              "      <td>Paramount Pictures</td>\n",
              "      <td>USA</td>\n",
              "      <td>John Hughes</td>\n",
              "      <td>Comedy</td>\n",
              "      <td>70136369</td>\n",
              "      <td>Ferris Bueller's Day Off</td>\n",
              "      <td>PG-13</td>\n",
              "      <td>6/11/1986</td>\n",
              "      <td>103</td>\n",
              "      <td>7.8</td>\n",
              "      <td>Matthew Broderick</td>\n",
              "      <td>264740</td>\n",
              "      <td>John Hughes</td>\n",
              "      <td>1986</td>\n",
              "    </tr>\n",
              "    <tr>\n",
              "      <th>2</th>\n",
              "      <td>15000000</td>\n",
              "      <td>Paramount Pictures</td>\n",
              "      <td>USA</td>\n",
              "      <td>Tony Scott</td>\n",
              "      <td>Action</td>\n",
              "      <td>179800601</td>\n",
              "      <td>Top Gun</td>\n",
              "      <td>PG</td>\n",
              "      <td>5/16/1986</td>\n",
              "      <td>110</td>\n",
              "      <td>6.9</td>\n",
              "      <td>Tom Cruise</td>\n",
              "      <td>236909</td>\n",
              "      <td>Jim Cash</td>\n",
              "      <td>1986</td>\n",
              "    </tr>\n",
              "    <tr>\n",
              "      <th>3</th>\n",
              "      <td>18500000</td>\n",
              "      <td>Twentieth Century Fox Film Corporation</td>\n",
              "      <td>USA</td>\n",
              "      <td>James Cameron</td>\n",
              "      <td>Action</td>\n",
              "      <td>85160248</td>\n",
              "      <td>Aliens</td>\n",
              "      <td>R</td>\n",
              "      <td>7/18/1986</td>\n",
              "      <td>137</td>\n",
              "      <td>8.4</td>\n",
              "      <td>Sigourney Weaver</td>\n",
              "      <td>540152</td>\n",
              "      <td>James Cameron</td>\n",
              "      <td>1986</td>\n",
              "    </tr>\n",
              "    <tr>\n",
              "      <th>4</th>\n",
              "      <td>9000000</td>\n",
              "      <td>Walt Disney Pictures</td>\n",
              "      <td>USA</td>\n",
              "      <td>Randal Kleiser</td>\n",
              "      <td>Adventure</td>\n",
              "      <td>18564613</td>\n",
              "      <td>Flight of the Navigator</td>\n",
              "      <td>PG</td>\n",
              "      <td>8/1/1986</td>\n",
              "      <td>90</td>\n",
              "      <td>6.9</td>\n",
              "      <td>Joey Cramer</td>\n",
              "      <td>36636</td>\n",
              "      <td>Mark H. Baker</td>\n",
              "      <td>1986</td>\n",
              "    </tr>\n",
              "    <tr>\n",
              "      <th>5</th>\n",
              "      <td>6000000</td>\n",
              "      <td>Hemdale</td>\n",
              "      <td>UK</td>\n",
              "      <td>Oliver Stone</td>\n",
              "      <td>Drama</td>\n",
              "      <td>138530565</td>\n",
              "      <td>Platoon</td>\n",
              "      <td>R</td>\n",
              "      <td>2/6/1987</td>\n",
              "      <td>120</td>\n",
              "      <td>8.1</td>\n",
              "      <td>Charlie Sheen</td>\n",
              "      <td>317585</td>\n",
              "      <td>Oliver Stone</td>\n",
              "      <td>1986</td>\n",
              "    </tr>\n",
              "    <tr>\n",
              "      <th>6</th>\n",
              "      <td>25000000</td>\n",
              "      <td>Henson Associates (HA)</td>\n",
              "      <td>UK</td>\n",
              "      <td>Jim Henson</td>\n",
              "      <td>Adventure</td>\n",
              "      <td>12729917</td>\n",
              "      <td>Labyrinth</td>\n",
              "      <td>PG</td>\n",
              "      <td>6/27/1986</td>\n",
              "      <td>101</td>\n",
              "      <td>7.4</td>\n",
              "      <td>David Bowie</td>\n",
              "      <td>102879</td>\n",
              "      <td>Dennis Lee</td>\n",
              "      <td>1986</td>\n",
              "    </tr>\n",
              "    <tr>\n",
              "      <th>7</th>\n",
              "      <td>6000000</td>\n",
              "      <td>De Laurentiis Entertainment Group (DEG)</td>\n",
              "      <td>USA</td>\n",
              "      <td>David Lynch</td>\n",
              "      <td>Drama</td>\n",
              "      <td>8551228</td>\n",
              "      <td>Blue Velvet</td>\n",
              "      <td>R</td>\n",
              "      <td>10/23/1986</td>\n",
              "      <td>120</td>\n",
              "      <td>7.8</td>\n",
              "      <td>Isabella Rossellini</td>\n",
              "      <td>146768</td>\n",
              "      <td>David Lynch</td>\n",
              "      <td>1986</td>\n",
              "    </tr>\n",
              "    <tr>\n",
              "      <th>8</th>\n",
              "      <td>9000000</td>\n",
              "      <td>Paramount Pictures</td>\n",
              "      <td>USA</td>\n",
              "      <td>Howard Deutch</td>\n",
              "      <td>Comedy</td>\n",
              "      <td>40471663</td>\n",
              "      <td>Pretty in Pink</td>\n",
              "      <td>PG-13</td>\n",
              "      <td>2/28/1986</td>\n",
              "      <td>96</td>\n",
              "      <td>6.8</td>\n",
              "      <td>Molly Ringwald</td>\n",
              "      <td>60565</td>\n",
              "      <td>John Hughes</td>\n",
              "      <td>1986</td>\n",
              "    </tr>\n",
              "    <tr>\n",
              "      <th>9</th>\n",
              "      <td>15000000</td>\n",
              "      <td>SLM Production Group</td>\n",
              "      <td>USA</td>\n",
              "      <td>David Cronenberg</td>\n",
              "      <td>Drama</td>\n",
              "      <td>40456565</td>\n",
              "      <td>The Fly</td>\n",
              "      <td>R</td>\n",
              "      <td>8/15/1986</td>\n",
              "      <td>96</td>\n",
              "      <td>7.5</td>\n",
              "      <td>Jeff Goldblum</td>\n",
              "      <td>129698</td>\n",
              "      <td>George Langelaan</td>\n",
              "      <td>1986</td>\n",
              "    </tr>\n",
              "  </tbody>\n",
              "</table>\n",
              "</div>"
            ],
            "text/plain": [
              "     budget                                  company  ...            writer  year\n",
              "0   8000000            Columbia Pictures Corporation  ...      Stephen King  1986\n",
              "1   6000000                       Paramount Pictures  ...       John Hughes  1986\n",
              "2  15000000                       Paramount Pictures  ...          Jim Cash  1986\n",
              "3  18500000   Twentieth Century Fox Film Corporation  ...     James Cameron  1986\n",
              "4   9000000                     Walt Disney Pictures  ...     Mark H. Baker  1986\n",
              "5   6000000                                  Hemdale  ...      Oliver Stone  1986\n",
              "6  25000000                   Henson Associates (HA)  ...        Dennis Lee  1986\n",
              "7   6000000  De Laurentiis Entertainment Group (DEG)  ...       David Lynch  1986\n",
              "8   9000000                       Paramount Pictures  ...       John Hughes  1986\n",
              "9  15000000                     SLM Production Group  ...  George Langelaan  1986\n",
              "\n",
              "[10 rows x 15 columns]"
            ]
          },
          "metadata": {
            "tags": []
          },
          "execution_count": 115
        }
      ]
    },
    {
      "cell_type": "code",
      "metadata": {
        "id": "D0ssiKlghGT9"
      },
      "source": [
        ""
      ],
      "execution_count": null,
      "outputs": []
    },
    {
      "cell_type": "markdown",
      "metadata": {
        "id": "XnzrU-7Oocdd"
      },
      "source": [
        "###2.Опишіть колонки які ви використовуєте для аналізу в подальшому, що за дані в них зберігаються якщо потрібен опис або їх призначення неочевидне / специфічне для домену \n"
      ]
    },
    {
      "cell_type": "code",
      "metadata": {
        "id": "DDyFxh44-u5I"
      },
      "source": [
        ""
      ],
      "execution_count": null,
      "outputs": []
    },
    {
      "cell_type": "markdown",
      "metadata": {
        "id": "O-2VTbG_ofEC"
      },
      "source": [
        "###3.Чи є [категоріальні / числові дані](https://towardsdatascience.com/data-types-in-statistics-347e152e8bee) ? [Виведіть усі варіанти категорій для певної колонки](https://cmdlinetips.com/2018/01/how-to-get-unique-values-from-a-column-in-pandas-data-frame/) ( в рамках розуміного - якщо ці категорії це унікальні значення тоді не треба). Чи є закодовані дані (з використанням скорочень / кодів / ітд) - що вони значать у вашому випадку? \n",
        " "
      ]
    },
    {
      "cell_type": "code",
      "metadata": {
        "id": "nNNk6cxVogga",
        "colab": {
          "base_uri": "https://localhost:8080/"
        },
        "outputId": "957cfbcc-ed03-475d-c6fd-44497e38b200"
      },
      "source": [
        "print(dataset['genre'].unique())\r\n"
      ],
      "execution_count": 114,
      "outputs": [
        {
          "output_type": "stream",
          "text": [
            "['Adventure' 'Comedy' 'Action' 'Drama' 'Crime' 'Thriller' 'Horror'\n",
            " 'Animation' 'Biography' 'Sci-Fi' 'Musical' 'Family' 'Fantasy' 'Mystery'\n",
            " 'War' 'Romance' 'Western']\n"
          ],
          "name": "stdout"
        }
      ]
    },
    {
      "cell_type": "markdown",
      "metadata": {
        "id": "RE_GE7Nsogzr"
      },
      "source": [
        "###4.Виведіть максимальні / мінімальні значення для числових колонок. Чи вони коректні в реаліях домену? Чи вони взагалі є подібним до реальності числом чи швидше заглушкою/помилкою?\n"
      ]
    },
    {
      "cell_type": "code",
      "metadata": {
        "id": "mgnNuLE_oiAT",
        "colab": {
          "base_uri": "https://localhost:8080/"
        },
        "outputId": "64a6c5a7-cdad-48f4-e410-f3d348ce523b"
      },
      "source": [
        "print(\"By the year of release of the film:\")\r\n",
        "print('The oldest movie:', dataset['year'].min())\r\n",
        "print('The latest movie:', dataset['year'].max())\r\n",
        "print(\"*****************************************\")\r\n",
        "print(\"By the budget of the film:\")\r\n",
        "print('The biggest budget of the movie:', dataset['budget'].max())\r\n",
        "print('The lowest budget of the movie:', dataset['budget'].min())\r\n",
        "print(\"*****************************************\")\r\n",
        "print(\"By the score of the film:\")\r\n",
        "print('The movie with the highest score:', dataset['score'].max())\r\n",
        "print('The movie with the lowest score:', dataset['score'].min())"
      ],
      "execution_count": 116,
      "outputs": [
        {
          "output_type": "stream",
          "text": [
            "By the year of release of the film:\n",
            "The oldest movie: 1986\n",
            "The latest movie: 1995\n",
            "*****************************************\n",
            "By the budget of the film:\n",
            "The biggest budget of the movie: 115000000\n",
            "The lowest budget of the movie: 0\n",
            "*****************************************\n",
            "By the score of the film:\n",
            "The movie with the highest score: 9.3\n",
            "The movie with the lowest score: 1.6\n"
          ],
          "name": "stdout"
        }
      ]
    },
    {
      "cell_type": "markdown",
      "metadata": {
        "id": "2vkcohsnoiHG"
      },
      "source": [
        "###5.чи є у вас у даних пусті / null / нулі / або інакшим чином некоректні / незаповнені записи або клітинки? Наскільки ці колонки для вас критичні якщо такі є?  [(help)](https://www.geeksforgeeks.org/working-with-missing-data-in-pandas/\n",
        ")\n",
        "\n",
        "(**sic!** в рамках даної лабораторної тільки виявлення таких записів без їхньої зміни - тільки якщо вона потрібна вашим подальшим завданням у даній лабораторні)\n"
      ]
    },
    {
      "cell_type": "code",
      "metadata": {
        "id": "kx-D8FJ4ojiR",
        "colab": {
          "base_uri": "https://localhost:8080/"
        },
        "outputId": "8172d802-dc17-47db-8105-6e23a80bfc18"
      },
      "source": [
        "print(dataset.shape)\r\n",
        "print(dataset[dataset.budget > 0].shape)"
      ],
      "execution_count": 117,
      "outputs": [
        {
          "output_type": "stream",
          "text": [
            "(1999, 15)\n",
            "(991, 15)\n"
          ],
          "name": "stdout"
        }
      ]
    },
    {
      "cell_type": "markdown",
      "metadata": {
        "id": "np7IITHeojql"
      },
      "source": [
        "###6.Виведіть за допомогою matplotlib/seaborn 3 або більше (якщо хочете) [розподілів для даних](https://towardsdatascience.com/histograms-and-density-plots-in-python-f6bda88f5ac0); що з них можна дізнатися цікавого/корисного для нас? [Який тип ймовріносного розподілу для них найближчий? ](http://tinyheero.github.io/assets/prob-distr/overview-prob-distr.png)\n",
        "\n",
        "\n"
      ]
    },
    {
      "cell_type": "code",
      "metadata": {
        "id": "vKbFUrg6olc6",
        "colab": {
          "base_uri": "https://localhost:8080/",
          "height": 413
        },
        "outputId": "df20a1c2-5857-484f-ebdf-c810d40d72f1"
      },
      "source": [
        "#movies released in period of 1986-1994 with score greater than 8.0\r\n",
        "movies_list = dataset[dataset.year.between(1986, 1994, inclusive=True)][dataset.score >= 8.0]\r\n",
        "plt.subplot(3, 1, 1)\r\n",
        "dates_plot = sns.distplot(x = movies_list['year'], hist=True, kde=False,\r\n",
        "                          bins=30, hist_kws={'edgecolor':'black'})\r\n",
        "#by scores\r\n",
        "plt.subplot(3, 1, 2)\r\n",
        "dates_plot = sns.distplot(x = dataset['score'], hist=True, kde=False,\r\n",
        "                          bins=30, hist_kws={'edgecolor':'black'})\r\n",
        "# #scores of movies\r\n",
        "plt.subplot(3, 1, 3)\r\n",
        "movies_chart1 = sns.countplot(x = dataset['genre'], data=dataset)\r\n",
        "movies_chart1.set_xticklabels(movies_chart1.get_xticklabels(), rotation=90)\r\n",
        "None"
      ],
      "execution_count": 176,
      "outputs": [
        {
          "output_type": "stream",
          "text": [
            "/usr/local/lib/python3.7/dist-packages/ipykernel_launcher.py:2: UserWarning: Boolean Series key will be reindexed to match DataFrame index.\n",
            "  \n",
            "/usr/local/lib/python3.7/dist-packages/seaborn/distributions.py:2557: FutureWarning: `distplot` is a deprecated function and will be removed in a future version. Please adapt your code to use either `displot` (a figure-level function with similar flexibility) or `histplot` (an axes-level function for histograms).\n",
            "  warnings.warn(msg, FutureWarning)\n"
          ],
          "name": "stderr"
        },
        {
          "output_type": "display_data",
          "data": {
            "image/png": "[encoded data removed]",
            "text/plain": [
              "<Figure size 432x288 with 3 Axes>"
            ]
          },
          "metadata": {
            "tags": [],
            "needs_background": "light"
          }
        }
      ]
    },
    {
      "cell_type": "markdown",
      "metadata": {
        "id": "wptzV3Iqoln8"
      },
      "source": [
        "###7.Виведіть 3 (або більше якщо вважаєте за потрібне) графіки за допомогою [matplotlib](https://towardsdatascience.com/matplotlib-tutorial-learn-basics-of-pythons-powerful-plotting-library-b5d1b8f67596)/seaborn/ggplot/altair для ваших колонок. Що з них корисного / цікавого можна дізнатися? (не обов'язково довго мудрувати можете описати що бачите на них якщо немає якихось нових здогакдок/інсайтів)\n"
      ]
    },
    {
      "cell_type": "code",
      "metadata": {
        "colab": {
          "base_uri": "https://localhost:8080/",
          "height": 321
        },
        "id": "2h3mfiRgVie7",
        "outputId": "86793efa-bc2e-4faa-a2f4-5ca4ffc8bfe3"
      },
      "source": [
        "# companies_list = dataset[dataset.company.isin(['Columbia Pictures', 'Paramount Pictures', 'Twentieth Century Fox Film Corporation', 'Walt Disney Pictures'])]\r\n",
        "# print(companies_list.shape)\r\n",
        "#movies score by genres\r\n",
        "plt.subplot(2, 1, 1)\r\n",
        "movies_plot = sns.lineplot(data=dataset, x='genre', y='score')\r\n",
        "movies_plot.set_xticklabels(movies_chart1.get_xticklabels(), rotation=90)\r\n",
        "None\r\n",
        "#movies runtime by genres\r\n",
        "plt.subplot(2, 1, 2)\r\n",
        "movies_plot = sns.lineplot(data=dataset, x='genre', y='runtime')\r\n",
        "movies_plot.set_xticklabels(movies_chart1.get_xticklabels(), rotation=90)\r\n",
        "None\r\n",
        "\r\n",
        "\r\n"
      ],
      "execution_count": 173,
      "outputs": [
        {
          "output_type": "display_data",
          "data": {
            "image/png": "[encoded data removed]",
            "text/plain": [
              "<Figure size 432x288 with 2 Axes>"
            ]
          },
          "metadata": {
            "tags": [],
            "needs_background": "light"
          }
        }
      ]
    },
    {
      "cell_type": "markdown",
      "metadata": {
        "id": "9JpplubIonJZ"
      },
      "source": [
        "###8.[Виведіть кореляційну матрицю або heatmap для ваших даних](https://datatofish.com/correlation-matrix-pandas/) (можете обрати частину з них). Чи є цікаві /до того не замітні кореляції між даними? Чи вони були очевидні до того або їх можна пояснити гіпотезою з вашого боку? Наведіть 3 приклади."
      ]
    },
    {
      "cell_type": "code",
      "metadata": {
        "id": "YtNE3V0konmj",
        "colab": {
          "base_uri": "https://localhost:8080/",
          "height": 286
        },
        "outputId": "8e860bcd-8a98-4736-a6b9-78468f56b167"
      },
      "source": [
        "corrMatrix = dataset.corr()\r\n",
        "sns.heatmap(corrMatrix, annot=True)\r\n"
      ],
      "execution_count": 140,
      "outputs": [
        {
          "output_type": "execute_result",
          "data": {
            "text/plain": [
              "<matplotlib.axes._subplots.AxesSubplot at 0x7f2236934ed0>"
            ]
          },
          "metadata": {
            "tags": []
          },
          "execution_count": 140
        },
        {
          "output_type": "display_data",
          "data": {
            "image/png": "[encoded data removed]",
            "text/plain": [
              "<Figure size 432x288 with 2 Axes>"
            ]
          },
          "metadata": {
            "tags": [],
            "needs_background": "light"
          }
        }
      ]
    }
  ]
}