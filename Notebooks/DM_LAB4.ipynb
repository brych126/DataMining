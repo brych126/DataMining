{
  "nbformat": 4,
  "nbformat_minor": 0,
  "metadata": {
    "colab": {
      "name": "DM_LAB4.ipynb",
      "provenance": [],
      "collapsed_sections": []
    },
    "kernelspec": {
      "name": "python3",
      "display_name": "Python 3"
    }
  },
  "cells": [
    {
      "cell_type": "markdown",
      "metadata": {
        "id": "T7vUYmK-nP0_"
      },
      "source": [
        "# Лабораторна робота №4 з Видобування даних\n",
        "## Моделювання\n",
        "### Мета роботи: навчитися базовому фунукціоналу sckit learn для тренування простих моделей\n",
        "### В рамках першої лабораторної роботи з етапу моделювання ми будемо працювати з простішими варіантами алгоритмів: [регресія](https://scikit-learn.org/stable/modules/linear_model.html) (може бути на ваш вибір), [дерева рішень](https://scikit-learn.org/stable/modules/tree.html), [ k-nearest neighbours](https://scikit-learn.org/stable/modules/neighbors.html) для класифікації та [k-means](https://scikit-learn.org/stable/modules/clustering.html) для кластеризації. \n",
        "\n",
        "\n",
        "### Туторіали по темі : [лінійної регресії](https://stackabuse.com/linear-regression-in-python-with-scikit-learn) , [дерев рішень](https://towardsdatascience.com/scikit-learn-decision-trees-explained-803f3812290d) , [nearest neighbours](https://towardsdatascience.com/knn-using-scikit-learn-c6bed765be75) , [k-means](https://towardsdatascience.com/k-means-clustering-with-scikit-learn-6b47a369a83c) (якщо стаття перекривається повідомленням відкрийте її в приватній вкладці)"
      ]
    },
    {
      "cell_type": "markdown",
      "metadata": {
        "id": "hMkBHaEBoRL3"
      },
      "source": [
        "###1.[Завантажте набір даних у колаб](https://towardsdatascience.com/3-ways-to-load-csv-files-into-colab-7c14fcbdcb92), і у data frame "
      ]
    },
    {
      "cell_type": "code",
      "metadata": {
        "id": "3yAOJ4KDoc-U",
        "colab": {
          "base_uri": "https://localhost:8080/",
          "height": 197
        },
        "outputId": "5d4b3bf8-c356-4e42-c6f6-768e90bd5c07"
      },
      "source": [
        "import pandas as pd\n",
        "import matplotlib.pyplot as plt\n",
        "import seaborn as sns\n",
        "url = 'https://raw.githubusercontent.com/brych126/DataMining/main/Datasets/movies_cleaned.csv'\n",
        "dataset = pd.read_csv(url, encoding='latin-1')\n",
        "dataset.head() "
      ],
      "execution_count": 100,
      "outputs": [
        {
          "output_type": "execute_result",
          "data": {
            "text/html": [
              "<div>\n",
              "<style scoped>\n",
              "    .dataframe tbody tr th:only-of-type {\n",
              "        vertical-align: middle;\n",
              "    }\n",
              "\n",
              "    .dataframe tbody tr th {\n",
              "        vertical-align: top;\n",
              "    }\n",
              "\n",
              "    .dataframe thead th {\n",
              "        text-align: right;\n",
              "    }\n",
              "</style>\n",
              "<table border=\"1\" class=\"dataframe\">\n",
              "  <thead>\n",
              "    <tr style=\"text-align: right;\">\n",
              "      <th></th>\n",
              "      <th>budget</th>\n",
              "      <th>company</th>\n",
              "      <th>country</th>\n",
              "      <th>director</th>\n",
              "      <th>genre</th>\n",
              "      <th>gross</th>\n",
              "      <th>name</th>\n",
              "      <th>released</th>\n",
              "      <th>runtime</th>\n",
              "      <th>score</th>\n",
              "      <th>star</th>\n",
              "      <th>votes</th>\n",
              "      <th>year</th>\n",
              "    </tr>\n",
              "  </thead>\n",
              "  <tbody>\n",
              "    <tr>\n",
              "      <th>0</th>\n",
              "      <td>8000000</td>\n",
              "      <td>Columbia Pictures Corporation</td>\n",
              "      <td>USA</td>\n",
              "      <td>Rob Reiner</td>\n",
              "      <td>Adventure</td>\n",
              "      <td>52287414</td>\n",
              "      <td>Stand by Me</td>\n",
              "      <td>8/22/1986</td>\n",
              "      <td>89</td>\n",
              "      <td>8.1</td>\n",
              "      <td>Wil Wheaton</td>\n",
              "      <td>299174</td>\n",
              "      <td>1986</td>\n",
              "    </tr>\n",
              "    <tr>\n",
              "      <th>1</th>\n",
              "      <td>6000000</td>\n",
              "      <td>Paramount Pictures</td>\n",
              "      <td>USA</td>\n",
              "      <td>John Hughes</td>\n",
              "      <td>Comedy</td>\n",
              "      <td>70136369</td>\n",
              "      <td>Ferris Bueller's Day Off</td>\n",
              "      <td>6/11/1986</td>\n",
              "      <td>103</td>\n",
              "      <td>7.8</td>\n",
              "      <td>Matthew Broderick</td>\n",
              "      <td>264740</td>\n",
              "      <td>1986</td>\n",
              "    </tr>\n",
              "    <tr>\n",
              "      <th>2</th>\n",
              "      <td>15000000</td>\n",
              "      <td>Paramount Pictures</td>\n",
              "      <td>USA</td>\n",
              "      <td>Tony Scott</td>\n",
              "      <td>Action</td>\n",
              "      <td>179800601</td>\n",
              "      <td>Top Gun</td>\n",
              "      <td>5/16/1986</td>\n",
              "      <td>110</td>\n",
              "      <td>6.9</td>\n",
              "      <td>Tom Cruise</td>\n",
              "      <td>236909</td>\n",
              "      <td>1986</td>\n",
              "    </tr>\n",
              "    <tr>\n",
              "      <th>3</th>\n",
              "      <td>18500000</td>\n",
              "      <td>Twentieth Century Fox Film Corporation</td>\n",
              "      <td>USA</td>\n",
              "      <td>James Cameron</td>\n",
              "      <td>Action</td>\n",
              "      <td>85160248</td>\n",
              "      <td>Aliens</td>\n",
              "      <td>7/18/1986</td>\n",
              "      <td>137</td>\n",
              "      <td>8.4</td>\n",
              "      <td>Sigourney Weaver</td>\n",
              "      <td>540152</td>\n",
              "      <td>1986</td>\n",
              "    </tr>\n",
              "    <tr>\n",
              "      <th>4</th>\n",
              "      <td>9000000</td>\n",
              "      <td>Walt Disney Pictures</td>\n",
              "      <td>USA</td>\n",
              "      <td>Randal Kleiser</td>\n",
              "      <td>Adventure</td>\n",
              "      <td>18564613</td>\n",
              "      <td>Flight of the Navigator</td>\n",
              "      <td>8/1/1986</td>\n",
              "      <td>90</td>\n",
              "      <td>6.9</td>\n",
              "      <td>Joey Cramer</td>\n",
              "      <td>36636</td>\n",
              "      <td>1986</td>\n",
              "    </tr>\n",
              "  </tbody>\n",
              "</table>\n",
              "</div>"
            ],
            "text/plain": [
              "     budget                                 company  ...   votes  year\n",
              "0   8000000           Columbia Pictures Corporation  ...  299174  1986\n",
              "1   6000000                      Paramount Pictures  ...  264740  1986\n",
              "2  15000000                      Paramount Pictures  ...  236909  1986\n",
              "3  18500000  Twentieth Century Fox Film Corporation  ...  540152  1986\n",
              "4   9000000                    Walt Disney Pictures  ...   36636  1986\n",
              "\n",
              "[5 rows x 13 columns]"
            ]
          },
          "metadata": {
            "tags": []
          },
          "execution_count": 100
        }
      ]
    },
    {
      "cell_type": "markdown",
      "metadata": {
        "id": "nqR7W2-omrk4"
      },
      "source": [
        "### 2. Використатйте метод [train_test_split](https://scikit-learn.org/stable/modules/generated/sklearn.model_selection.train_test_split.html) для того щоб отримати набір для тренування і тестування моделі"
      ]
    },
    {
      "cell_type": "code",
      "metadata": {
        "id": "H8I7WY3zmrxN",
        "colab": {
          "base_uri": "https://localhost:8080/"
        },
        "outputId": "9f0f62fb-148a-4416-800a-5349e4059730"
      },
      "source": [
        "from sklearn.model_selection import train_test_split\n",
        "x1 = dataset[['budget', 'runtime', 'gross']]\n",
        "y1 = dataset['score']\n",
        "x_train, x_test, y_train, y_test = train_test_split(x1, y1, test_size=0.2, random_state=0)\n",
        "print('Data was split to train and test sets\\nTrain set size:',len(x_train),'\\nTest set size:', len(x_test))"
      ],
      "execution_count": 101,
      "outputs": [
        {
          "output_type": "stream",
          "text": [
            "Data was split to train and test sets\n",
            "Train set size: 636 \n",
            "Test set size: 160\n"
          ],
          "name": "stdout"
        }
      ]
    },
    {
      "cell_type": "markdown",
      "metadata": {
        "id": "XnzrU-7Oocdd"
      },
      "source": [
        "###2.Оберіть 2 методи які би хотіли викорситати для ваших даних - наведіть приклади щоб ви хотіли за допомогою них отримати та аргументуйте чому обрали їх (не конкретний алгоритм а задачу класифікації / кластеризації / регресії )\n"
      ]
    },
    {
      "cell_type": "code",
      "metadata": {
        "id": "qCbXc55toeq7"
      },
      "source": [
        "\n"
      ],
      "execution_count": null,
      "outputs": []
    },
    {
      "cell_type": "markdown",
      "metadata": {
        "id": "O-2VTbG_ofEC"
      },
      "source": [
        "###3.Використайте обидва методи на своїх даних натренувавши модель. Наведіть метрики після тренування на вашх тестових даних\n",
        " "
      ]
    },
    {
      "cell_type": "code",
      "metadata": {
        "id": "nNNk6cxVogga",
        "colab": {
          "base_uri": "https://localhost:8080/",
          "height": 406
        },
        "outputId": "fba29844-4955-49e5-a47e-de693c306dab"
      },
      "source": [
        "#Regression\n",
        "from sklearn.linear_model import LinearRegression\n",
        "regressor = LinearRegression()\n",
        "regressor.fit(x_train, y_train)\n",
        "y_pred = regressor.predict(x_test)\n",
        "df = pd.DataFrame({'Actual': y_test, 'Predicted': y_pred})\n",
        "df"
      ],
      "execution_count": 102,
      "outputs": [
        {
          "output_type": "execute_result",
          "data": {
            "text/html": [
              "<div>\n",
              "<style scoped>\n",
              "    .dataframe tbody tr th:only-of-type {\n",
              "        vertical-align: middle;\n",
              "    }\n",
              "\n",
              "    .dataframe tbody tr th {\n",
              "        vertical-align: top;\n",
              "    }\n",
              "\n",
              "    .dataframe thead th {\n",
              "        text-align: right;\n",
              "    }\n",
              "</style>\n",
              "<table border=\"1\" class=\"dataframe\">\n",
              "  <thead>\n",
              "    <tr style=\"text-align: right;\">\n",
              "      <th></th>\n",
              "      <th>Actual</th>\n",
              "      <th>Predicted</th>\n",
              "    </tr>\n",
              "  </thead>\n",
              "  <tbody>\n",
              "    <tr>\n",
              "      <th>492</th>\n",
              "      <td>6.0</td>\n",
              "      <td>5.936409</td>\n",
              "    </tr>\n",
              "    <tr>\n",
              "      <th>175</th>\n",
              "      <td>8.2</td>\n",
              "      <td>7.171356</td>\n",
              "    </tr>\n",
              "    <tr>\n",
              "      <th>529</th>\n",
              "      <td>6.6</td>\n",
              "      <td>7.907421</td>\n",
              "    </tr>\n",
              "    <tr>\n",
              "      <th>618</th>\n",
              "      <td>8.1</td>\n",
              "      <td>7.046126</td>\n",
              "    </tr>\n",
              "    <tr>\n",
              "      <th>558</th>\n",
              "      <td>5.3</td>\n",
              "      <td>5.837491</td>\n",
              "    </tr>\n",
              "    <tr>\n",
              "      <th>...</th>\n",
              "      <td>...</td>\n",
              "      <td>...</td>\n",
              "    </tr>\n",
              "    <tr>\n",
              "      <th>643</th>\n",
              "      <td>7.9</td>\n",
              "      <td>5.599253</td>\n",
              "    </tr>\n",
              "    <tr>\n",
              "      <th>235</th>\n",
              "      <td>7.6</td>\n",
              "      <td>6.031461</td>\n",
              "    </tr>\n",
              "    <tr>\n",
              "      <th>419</th>\n",
              "      <td>6.6</td>\n",
              "      <td>6.235395</td>\n",
              "    </tr>\n",
              "    <tr>\n",
              "      <th>76</th>\n",
              "      <td>5.9</td>\n",
              "      <td>6.338694</td>\n",
              "    </tr>\n",
              "    <tr>\n",
              "      <th>64</th>\n",
              "      <td>5.7</td>\n",
              "      <td>6.255639</td>\n",
              "    </tr>\n",
              "  </tbody>\n",
              "</table>\n",
              "<p>160 rows × 2 columns</p>\n",
              "</div>"
            ],
            "text/plain": [
              "     Actual  Predicted\n",
              "492     6.0   5.936409\n",
              "175     8.2   7.171356\n",
              "529     6.6   7.907421\n",
              "618     8.1   7.046126\n",
              "558     5.3   5.837491\n",
              "..      ...        ...\n",
              "643     7.9   5.599253\n",
              "235     7.6   6.031461\n",
              "419     6.6   6.235395\n",
              "76      5.9   6.338694\n",
              "64      5.7   6.255639\n",
              "\n",
              "[160 rows x 2 columns]"
            ]
          },
          "metadata": {
            "tags": []
          },
          "execution_count": 102
        }
      ]
    },
    {
      "cell_type": "code",
      "metadata": {
        "colab": {
          "base_uri": "https://localhost:8080/",
          "height": 137
        },
        "id": "3Ezrokx4X5M5",
        "outputId": "64536d95-c601-406e-a78b-23c58a9abf2f"
      },
      "source": [
        "coeff_df = pd.DataFrame(regressor.coef_, x1.columns, columns=['Coefficient'])\n",
        "coeff_df"
      ],
      "execution_count": 66,
      "outputs": [
        {
          "output_type": "execute_result",
          "data": {
            "text/html": [
              "<div>\n",
              "<style scoped>\n",
              "    .dataframe tbody tr th:only-of-type {\n",
              "        vertical-align: middle;\n",
              "    }\n",
              "\n",
              "    .dataframe tbody tr th {\n",
              "        vertical-align: top;\n",
              "    }\n",
              "\n",
              "    .dataframe thead th {\n",
              "        text-align: right;\n",
              "    }\n",
              "</style>\n",
              "<table border=\"1\" class=\"dataframe\">\n",
              "  <thead>\n",
              "    <tr style=\"text-align: right;\">\n",
              "      <th></th>\n",
              "      <th>Coefficient</th>\n",
              "    </tr>\n",
              "  </thead>\n",
              "  <tbody>\n",
              "    <tr>\n",
              "      <th>budget</th>\n",
              "      <td>-2.209017e-08</td>\n",
              "    </tr>\n",
              "    <tr>\n",
              "      <th>runtime</th>\n",
              "      <td>2.512341e-02</td>\n",
              "    </tr>\n",
              "    <tr>\n",
              "      <th>gross</th>\n",
              "      <td>8.738682e-09</td>\n",
              "    </tr>\n",
              "  </tbody>\n",
              "</table>\n",
              "</div>"
            ],
            "text/plain": [
              "          Coefficient\n",
              "budget  -2.209017e-08\n",
              "runtime  2.512341e-02\n",
              "gross    8.738682e-09"
            ]
          },
          "metadata": {
            "tags": []
          },
          "execution_count": 66
        }
      ]
    },
    {
      "cell_type": "code",
      "metadata": {
        "colab": {
          "base_uri": "https://localhost:8080/"
        },
        "id": "Dj3g9hSYWzM4",
        "outputId": "6bf877e3-dc82-4e6e-8ac7-1e8574d4394a"
      },
      "source": [
        "from sklearn import metrics\n",
        "import numpy as np\n",
        "print('Mean Absolute Error:', metrics.mean_absolute_error(y_test, y_pred))\n",
        "print('Mean Squared Error:', metrics.mean_squared_error(y_test, y_pred))\n",
        "print('Root Mean Squared Error:', np.sqrt(metrics.mean_squared_error(y_test, y_pred)))"
      ],
      "execution_count": 67,
      "outputs": [
        {
          "output_type": "stream",
          "text": [
            "Mean Absolute Error: 0.7111588178890816\n",
            "Mean Squared Error: 0.9326933996018795\n",
            "Root Mean Squared Error: 0.965760529117793\n"
          ],
          "name": "stdout"
        }
      ]
    },
    {
      "cell_type": "code",
      "metadata": {
        "colab": {
          "base_uri": "https://localhost:8080/",
          "height": 344
        },
        "id": "koOlW47OqmOQ",
        "outputId": "711d83b7-947c-49a2-e8a3-81ac7ef9d819"
      },
      "source": [
        "#Clustering\n",
        "from sklearn.cluster import KMeans\n",
        "x_cluster = list(zip(dataset['score'], dataset['gross']))\n",
        "deviation_values = []\n",
        "k_range = range(1,16)\n",
        "for k in k_range:\n",
        "  km = KMeans(n_clusters=k, init='random', n_init=10, max_iter=300, tol=1e-04, random_state=0)\n",
        "  km.fit(x_cluster)\n",
        "  deviation_values.append(km.inertia_)\n",
        "plt.figure(figsize=[15,5])\n",
        "plt.plot(k_range, deviation_values, marker='o')\n",
        "plt.xlabel('Number of clusters')\n",
        "plt.ylabel('Deviation')\n",
        "plt.show()\n"
      ],
      "execution_count": 89,
      "outputs": [
        {
          "output_type": "display_data",
          "data": {
            "image/png": "[encoded data removed]",
            "text/plain": [
              "<Figure size 1080x360 with 1 Axes>"
            ]
          },
          "metadata": {
            "tags": [],
            "needs_background": "light"
          }
        }
      ]
    },
    {
      "cell_type": "markdown",
      "metadata": {
        "id": "RE_GE7Nsogzr"
      },
      "source": [
        "\n",
        "###4.Чи є можливість покращити метрики змінивши параметри моделі та її параметри тренування ? Або за допомогою зміни / трансформації даних ? Проведіть оновлене тренування де ваші метрики покращаться\n"
      ]
    },
    {
      "cell_type": "code",
      "metadata": {
        "id": "mgnNuLE_oiAT",
        "colab": {
          "base_uri": "https://localhost:8080/"
        },
        "outputId": "4c73ccbd-60fb-457a-81aa-3559a8ca5041"
      },
      "source": [
        "#Regression\n",
        "from sklearn.model_selection import train_test_split\n",
        "x2 = dataset[['budget', 'runtime', 'gross']]\n",
        "y2 = dataset['score']\n",
        "for index, row in x2.iterrows():\n",
        "    if row['gross'] < row['budget'] * 1.5:\n",
        "      y2[index] -= 0.05\n",
        "    elif row['gross'] < row['budget'] * 1.5:\n",
        "      y2[index] = y2[index]\n",
        "    else:\n",
        "      y2[index] += 0.05\n",
        "x_train2, x_test2, y_train2, y_test2 = train_test_split(x2, y2, test_size=0.2, random_state=0)\n",
        "print('Data was split to train and test sets\\nTrain set size:',len(x_train),'\\nTest set size:', len(x_test))\n",
        "from sklearn.linear_model import LinearRegression\n",
        "regressor = LinearRegression()\n",
        "regressor.fit(x_train2, y_train2)\n",
        "y_pred2 = regressor.predict(x_test2)\n",
        "print('Mean Absolute Error:', metrics.mean_absolute_error(y_test2, y_pred2))\n",
        "print('Mean Squared Error:', metrics.mean_squared_error(y_test2, y_pred2))\n",
        "print('Root Mean Squared Error:', np.sqrt(metrics.mean_squared_error(y_test2, y_pred2)))"
      ],
      "execution_count": 91,
      "outputs": [
        {
          "output_type": "stream",
          "text": [
            "Data was split to train and test sets\n",
            "Train set size: 636 \n",
            "Test set size: 160\n",
            "Mean Absolute Error: 0.7315679178653528\n",
            "Mean Squared Error: 0.9699632067545263\n",
            "Root Mean Squared Error: 0.9848671010621313\n"
          ],
          "name": "stdout"
        },
        {
          "output_type": "stream",
          "text": [
            "/usr/local/lib/python3.7/dist-packages/ipykernel_launcher.py:10: SettingWithCopyWarning: \n",
            "A value is trying to be set on a copy of a slice from a DataFrame\n",
            "\n",
            "See the caveats in the documentation: https://pandas.pydata.org/pandas-docs/stable/user_guide/indexing.html#returning-a-view-versus-a-copy\n",
            "  # Remove the CWD from sys.path while we load stuff.\n",
            "/usr/local/lib/python3.7/dist-packages/ipykernel_launcher.py:6: SettingWithCopyWarning: \n",
            "A value is trying to be set on a copy of a slice from a DataFrame\n",
            "\n",
            "See the caveats in the documentation: https://pandas.pydata.org/pandas-docs/stable/user_guide/indexing.html#returning-a-view-versus-a-copy\n",
            "  \n"
          ],
          "name": "stderr"
        }
      ]
    },
    {
      "cell_type": "code",
      "metadata": {
        "colab": {
          "base_uri": "https://localhost:8080/",
          "height": 593
        },
        "id": "VZvCn2jOsXQa",
        "outputId": "7945cda2-77fd-41cd-eed2-9fd0b8bff579"
      },
      "source": [
        "#Clustering\n",
        "x_cluster_r = list(zip(round(dataset['score']), dataset['gross']))\n",
        "deviation_values_r = []\n",
        "for k in k_range:\n",
        "  km = KMeans(n_clusters=k, init='random', n_init=10, max_iter=300, tol=1e-04, random_state=0)\n",
        "  km.fit(x_cluster_r)\n",
        "  deviation_values_r.append(km.inertia_)\n",
        "  plt.figure(figsize=[15,5])\n",
        "plt.plot(k_range, deviation_values, marker='o')\n",
        "plt.xlabel('Number of clusters')\n",
        "plt.ylabel('Deviation')\n",
        "plt.show()\n",
        " \n"
      ],
      "execution_count": 97,
      "outputs": [
        {
          "output_type": "display_data",
          "data": {
            "text/plain": [
              "<Figure size 1080x360 with 0 Axes>"
            ]
          },
          "metadata": {
            "tags": []
          }
        },
        {
          "output_type": "display_data",
          "data": {
            "text/plain": [
              "<Figure size 1080x360 with 0 Axes>"
            ]
          },
          "metadata": {
            "tags": []
          }
        },
        {
          "output_type": "display_data",
          "data": {
            "text/plain": [
              "<Figure size 1080x360 with 0 Axes>"
            ]
          },
          "metadata": {
            "tags": []
          }
        },
        {
          "output_type": "display_data",
          "data": {
            "text/plain": [
              "<Figure size 1080x360 with 0 Axes>"
            ]
          },
          "metadata": {
            "tags": []
          }
        },
        {
          "output_type": "display_data",
          "data": {
            "text/plain": [
              "<Figure size 1080x360 with 0 Axes>"
            ]
          },
          "metadata": {
            "tags": []
          }
        },
        {
          "output_type": "display_data",
          "data": {
            "text/plain": [
              "<Figure size 1080x360 with 0 Axes>"
            ]
          },
          "metadata": {
            "tags": []
          }
        },
        {
          "output_type": "display_data",
          "data": {
            "text/plain": [
              "<Figure size 1080x360 with 0 Axes>"
            ]
          },
          "metadata": {
            "tags": []
          }
        },
        {
          "output_type": "display_data",
          "data": {
            "text/plain": [
              "<Figure size 1080x360 with 0 Axes>"
            ]
          },
          "metadata": {
            "tags": []
          }
        },
        {
          "output_type": "display_data",
          "data": {
            "text/plain": [
              "<Figure size 1080x360 with 0 Axes>"
            ]
          },
          "metadata": {
            "tags": []
          }
        },
        {
          "output_type": "display_data",
          "data": {
            "text/plain": [
              "<Figure size 1080x360 with 0 Axes>"
            ]
          },
          "metadata": {
            "tags": []
          }
        },
        {
          "output_type": "display_data",
          "data": {
            "text/plain": [
              "<Figure size 1080x360 with 0 Axes>"
            ]
          },
          "metadata": {
            "tags": []
          }
        },
        {
          "output_type": "display_data",
          "data": {
            "text/plain": [
              "<Figure size 1080x360 with 0 Axes>"
            ]
          },
          "metadata": {
            "tags": []
          }
        },
        {
          "output_type": "display_data",
          "data": {
            "text/plain": [
              "<Figure size 1080x360 with 0 Axes>"
            ]
          },
          "metadata": {
            "tags": []
          }
        },
        {
          "output_type": "display_data",
          "data": {
            "text/plain": [
              "<Figure size 1080x360 with 0 Axes>"
            ]
          },
          "metadata": {
            "tags": []
          }
        },
        {
          "output_type": "display_data",
          "data": {
            "image/png": "[encoded data removed]",
            "text/plain": [
              "<Figure size 1080x360 with 1 Axes>"
            ]
          },
          "metadata": {
            "tags": [],
            "needs_background": "light"
          }
        }
      ]
    },
    {
      "cell_type": "markdown",
      "metadata": {
        "id": "2vkcohsnoiHG"
      },
      "source": [
        "###5.Застосуйте вашу модель на одному окремому прикладі з датасету. Що вона вертає у відповідь , що значить даний повернений обєкт або тип ?\n",
        "\n"
      ]
    },
    {
      "cell_type": "code",
      "metadata": {
        "id": "kx-D8FJ4ojiR"
      },
      "source": [
        "#Regression\n",
        "#Look above"
      ],
      "execution_count": 103,
      "outputs": []
    },
    {
      "cell_type": "code",
      "metadata": {
        "colab": {
          "base_uri": "https://localhost:8080/",
          "height": 675
        },
        "id": "581p_3-7vIGU",
        "outputId": "416952fa-68ec-40e2-89ac-b79d082762b7"
      },
      "source": [
        "#Clustering\n",
        "km = KMeans(n_clusters=5, init='random', n_init=10, max_iter=300, tol=1e-04, random_state=0)\n",
        "km.fit(x_cluster)\n",
        "plt.figure(figsize=[20,10])\n",
        "sns.scatterplot([i[0] for i in x_cluster], [i[1] for i in x_cluster], hue=km.labels_)\n"
      ],
      "execution_count": 99,
      "outputs": [
        {
          "output_type": "stream",
          "text": [
            "/usr/local/lib/python3.7/dist-packages/seaborn/_decorators.py:43: FutureWarning: Pass the following variables as keyword args: x, y. From version 0.12, the only valid positional argument will be `data`, and passing other arguments without an explicit keyword will result in an error or misinterpretation.\n",
            "  FutureWarning\n"
          ],
          "name": "stderr"
        },
        {
          "output_type": "execute_result",
          "data": {
            "text/plain": [
              "<matplotlib.axes._subplots.AxesSubplot at 0x7fdd73934290>"
            ]
          },
          "metadata": {
            "tags": []
          },
          "execution_count": 99
        },
        {
          "output_type": "display_data",
          "data": {
            "image/png": "[encoded data removed]",
            "text/plain": [
              "<Figure size 1440x720 with 1 Axes>"
            ]
          },
          "metadata": {
            "tags": [],
            "needs_background": "light"
          }
        }
      ]
    }
  ]
}