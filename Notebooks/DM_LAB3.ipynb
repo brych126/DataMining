{
  "nbformat": 4,
  "nbformat_minor": 0,
  "metadata": {
    "colab": {
      "name": "DM_LAB3.ipynb",
      "provenance": [],
      "collapsed_sections": []
    },
    "kernelspec": {
      "name": "python3",
      "display_name": "Python 3"
    }
  },
  "cells": [
    {
      "cell_type": "markdown",
      "metadata": {
        "id": "T7vUYmK-nP0_"
      },
      "source": [
        "# Лабораторна робота №3 з Видобування даних\n",
        "## Очищення даних\n",
        "### Мета роботи: навчитися базовому фунукціоналу pandas для обробки та підготовки даних до моделювання та використання"
      ]
    },
    {
      "cell_type": "markdown",
      "metadata": {
        "id": "hMkBHaEBoRL3"
      },
      "source": [
        "###1.[Завантажте набір даних у колаб](https://towardsdatascience.com/3-ways-to-load-csv-files-into-colab-7c14fcbdcb92), і у data frame "
      ]
    },
    {
      "cell_type": "code",
      "metadata": {
        "id": "3yAOJ4KDoc-U",
        "colab": {
          "base_uri": "https://localhost:8080/",
          "height": 264
        },
        "outputId": "86cc19af-54d9-43d4-a47f-23a7619717ae"
      },
      "source": [
        "import pandas as pd\r\n",
        "url = 'https://raw.githubusercontent.com/brych126/DataMining/main/movies3.csv'\r\n",
        "dataset = pd.read_csv(url, encoding='latin-1')\r\n",
        "dataset.head() \r\n"
      ],
      "execution_count": null,
      "outputs": [
        {
          "output_type": "execute_result",
          "data": {
            "text/html": [
              "<div>\n",
              "<style scoped>\n",
              "    .dataframe tbody tr th:only-of-type {\n",
              "        vertical-align: middle;\n",
              "    }\n",
              "\n",
              "    .dataframe tbody tr th {\n",
              "        vertical-align: top;\n",
              "    }\n",
              "\n",
              "    .dataframe thead th {\n",
              "        text-align: right;\n",
              "    }\n",
              "</style>\n",
              "<table border=\"1\" class=\"dataframe\">\n",
              "  <thead>\n",
              "    <tr style=\"text-align: right;\">\n",
              "      <th></th>\n",
              "      <th>budget</th>\n",
              "      <th>company</th>\n",
              "      <th>country</th>\n",
              "      <th>director</th>\n",
              "      <th>genre</th>\n",
              "      <th>gross</th>\n",
              "      <th>name</th>\n",
              "      <th>rating</th>\n",
              "      <th>released</th>\n",
              "      <th>runtime</th>\n",
              "      <th>score</th>\n",
              "      <th>star</th>\n",
              "      <th>votes</th>\n",
              "      <th>writer</th>\n",
              "      <th>year</th>\n",
              "    </tr>\n",
              "  </thead>\n",
              "  <tbody>\n",
              "    <tr>\n",
              "      <th>0</th>\n",
              "      <td>8000000</td>\n",
              "      <td>Columbia Pictures Corporation</td>\n",
              "      <td>USA</td>\n",
              "      <td>Rob Reiner</td>\n",
              "      <td>Adventure</td>\n",
              "      <td>52287414</td>\n",
              "      <td>Stand by Me</td>\n",
              "      <td>R</td>\n",
              "      <td>8/22/1986</td>\n",
              "      <td>89</td>\n",
              "      <td>8.1</td>\n",
              "      <td>Wil Wheaton</td>\n",
              "      <td>299174</td>\n",
              "      <td>Stephen King</td>\n",
              "      <td>1986</td>\n",
              "    </tr>\n",
              "    <tr>\n",
              "      <th>1</th>\n",
              "      <td>6000000</td>\n",
              "      <td>Paramount Pictures</td>\n",
              "      <td>USA</td>\n",
              "      <td>John Hughes</td>\n",
              "      <td>Comedy</td>\n",
              "      <td>70136369</td>\n",
              "      <td>Ferris Bueller's Day Off</td>\n",
              "      <td>PG-13</td>\n",
              "      <td>6/11/1986</td>\n",
              "      <td>103</td>\n",
              "      <td>7.8</td>\n",
              "      <td>Matthew Broderick</td>\n",
              "      <td>264740</td>\n",
              "      <td>John Hughes</td>\n",
              "      <td>1986</td>\n",
              "    </tr>\n",
              "    <tr>\n",
              "      <th>2</th>\n",
              "      <td>15000000</td>\n",
              "      <td>Paramount Pictures</td>\n",
              "      <td>USA</td>\n",
              "      <td>Tony Scott</td>\n",
              "      <td>Action</td>\n",
              "      <td>179800601</td>\n",
              "      <td>Top Gun</td>\n",
              "      <td>PG</td>\n",
              "      <td>5/16/1986</td>\n",
              "      <td>110</td>\n",
              "      <td>6.9</td>\n",
              "      <td>Tom Cruise</td>\n",
              "      <td>236909</td>\n",
              "      <td>Jim Cash</td>\n",
              "      <td>1986</td>\n",
              "    </tr>\n",
              "    <tr>\n",
              "      <th>3</th>\n",
              "      <td>18500000</td>\n",
              "      <td>Twentieth Century Fox Film Corporation</td>\n",
              "      <td>USA</td>\n",
              "      <td>James Cameron</td>\n",
              "      <td>Action</td>\n",
              "      <td>85160248</td>\n",
              "      <td>Aliens</td>\n",
              "      <td>R</td>\n",
              "      <td>7/18/1986</td>\n",
              "      <td>137</td>\n",
              "      <td>8.4</td>\n",
              "      <td>Sigourney Weaver</td>\n",
              "      <td>540152</td>\n",
              "      <td>James Cameron</td>\n",
              "      <td>1986</td>\n",
              "    </tr>\n",
              "    <tr>\n",
              "      <th>4</th>\n",
              "      <td>9000000</td>\n",
              "      <td>Walt Disney Pictures</td>\n",
              "      <td>USA</td>\n",
              "      <td>Randal Kleiser</td>\n",
              "      <td>Adventure</td>\n",
              "      <td>18564613</td>\n",
              "      <td>Flight of the Navigator</td>\n",
              "      <td>PG</td>\n",
              "      <td>8/1/1986</td>\n",
              "      <td>90</td>\n",
              "      <td>6.9</td>\n",
              "      <td>Joey Cramer</td>\n",
              "      <td>36636</td>\n",
              "      <td>Mark H. Baker</td>\n",
              "      <td>1986</td>\n",
              "    </tr>\n",
              "  </tbody>\n",
              "</table>\n",
              "</div>"
            ],
            "text/plain": [
              "     budget                                 company  ...         writer  year\n",
              "0   8000000           Columbia Pictures Corporation  ...   Stephen King  1986\n",
              "1   6000000                      Paramount Pictures  ...    John Hughes  1986\n",
              "2  15000000                      Paramount Pictures  ...       Jim Cash  1986\n",
              "3  18500000  Twentieth Century Fox Film Corporation  ...  James Cameron  1986\n",
              "4   9000000                    Walt Disney Pictures  ...  Mark H. Baker  1986\n",
              "\n",
              "[5 rows x 15 columns]"
            ]
          },
          "metadata": {
            "tags": []
          },
          "execution_count": 36
        }
      ]
    },
    {
      "cell_type": "markdown",
      "metadata": {
        "id": "XnzrU-7Oocdd"
      },
      "source": [
        "###2.Видаліть ті колонки які вам не потрібні для подальшого аналізу, залишивши ті що ви вибрали в рамках 2 лабораторної роботи ( df.drop )\n"
      ]
    },
    {
      "cell_type": "code",
      "metadata": {
        "id": "qCbXc55toeq7",
        "colab": {
          "base_uri": "https://localhost:8080/",
          "height": 197
        },
        "outputId": "0b9e5167-b391-4129-fa36-1f60033882cc"
      },
      "source": [
        "dataset = dataset.drop(columns=['rating', 'writer'])\r\n",
        "dataset.head()\r\n"
      ],
      "execution_count": null,
      "outputs": [
        {
          "output_type": "execute_result",
          "data": {
            "text/html": [
              "<div>\n",
              "<style scoped>\n",
              "    .dataframe tbody tr th:only-of-type {\n",
              "        vertical-align: middle;\n",
              "    }\n",
              "\n",
              "    .dataframe tbody tr th {\n",
              "        vertical-align: top;\n",
              "    }\n",
              "\n",
              "    .dataframe thead th {\n",
              "        text-align: right;\n",
              "    }\n",
              "</style>\n",
              "<table border=\"1\" class=\"dataframe\">\n",
              "  <thead>\n",
              "    <tr style=\"text-align: right;\">\n",
              "      <th></th>\n",
              "      <th>budget</th>\n",
              "      <th>company</th>\n",
              "      <th>country</th>\n",
              "      <th>director</th>\n",
              "      <th>genre</th>\n",
              "      <th>gross</th>\n",
              "      <th>name</th>\n",
              "      <th>released</th>\n",
              "      <th>runtime</th>\n",
              "      <th>score</th>\n",
              "      <th>star</th>\n",
              "      <th>votes</th>\n",
              "      <th>year</th>\n",
              "    </tr>\n",
              "  </thead>\n",
              "  <tbody>\n",
              "    <tr>\n",
              "      <th>0</th>\n",
              "      <td>8000000</td>\n",
              "      <td>Columbia Pictures Corporation</td>\n",
              "      <td>USA</td>\n",
              "      <td>Rob Reiner</td>\n",
              "      <td>Adventure</td>\n",
              "      <td>52287414</td>\n",
              "      <td>Stand by Me</td>\n",
              "      <td>8/22/1986</td>\n",
              "      <td>89</td>\n",
              "      <td>8.1</td>\n",
              "      <td>Wil Wheaton</td>\n",
              "      <td>299174</td>\n",
              "      <td>1986</td>\n",
              "    </tr>\n",
              "    <tr>\n",
              "      <th>1</th>\n",
              "      <td>6000000</td>\n",
              "      <td>Paramount Pictures</td>\n",
              "      <td>USA</td>\n",
              "      <td>John Hughes</td>\n",
              "      <td>Comedy</td>\n",
              "      <td>70136369</td>\n",
              "      <td>Ferris Bueller's Day Off</td>\n",
              "      <td>6/11/1986</td>\n",
              "      <td>103</td>\n",
              "      <td>7.8</td>\n",
              "      <td>Matthew Broderick</td>\n",
              "      <td>264740</td>\n",
              "      <td>1986</td>\n",
              "    </tr>\n",
              "    <tr>\n",
              "      <th>2</th>\n",
              "      <td>15000000</td>\n",
              "      <td>Paramount Pictures</td>\n",
              "      <td>USA</td>\n",
              "      <td>Tony Scott</td>\n",
              "      <td>Action</td>\n",
              "      <td>179800601</td>\n",
              "      <td>Top Gun</td>\n",
              "      <td>5/16/1986</td>\n",
              "      <td>110</td>\n",
              "      <td>6.9</td>\n",
              "      <td>Tom Cruise</td>\n",
              "      <td>236909</td>\n",
              "      <td>1986</td>\n",
              "    </tr>\n",
              "    <tr>\n",
              "      <th>3</th>\n",
              "      <td>18500000</td>\n",
              "      <td>Twentieth Century Fox Film Corporation</td>\n",
              "      <td>USA</td>\n",
              "      <td>James Cameron</td>\n",
              "      <td>Action</td>\n",
              "      <td>85160248</td>\n",
              "      <td>Aliens</td>\n",
              "      <td>7/18/1986</td>\n",
              "      <td>137</td>\n",
              "      <td>8.4</td>\n",
              "      <td>Sigourney Weaver</td>\n",
              "      <td>540152</td>\n",
              "      <td>1986</td>\n",
              "    </tr>\n",
              "    <tr>\n",
              "      <th>4</th>\n",
              "      <td>9000000</td>\n",
              "      <td>Walt Disney Pictures</td>\n",
              "      <td>USA</td>\n",
              "      <td>Randal Kleiser</td>\n",
              "      <td>Adventure</td>\n",
              "      <td>18564613</td>\n",
              "      <td>Flight of the Navigator</td>\n",
              "      <td>8/1/1986</td>\n",
              "      <td>90</td>\n",
              "      <td>6.9</td>\n",
              "      <td>Joey Cramer</td>\n",
              "      <td>36636</td>\n",
              "      <td>1986</td>\n",
              "    </tr>\n",
              "  </tbody>\n",
              "</table>\n",
              "</div>"
            ],
            "text/plain": [
              "     budget                                 company  ...   votes  year\n",
              "0   8000000           Columbia Pictures Corporation  ...  299174  1986\n",
              "1   6000000                      Paramount Pictures  ...  264740  1986\n",
              "2  15000000                      Paramount Pictures  ...  236909  1986\n",
              "3  18500000  Twentieth Century Fox Film Corporation  ...  540152  1986\n",
              "4   9000000                    Walt Disney Pictures  ...   36636  1986\n",
              "\n",
              "[5 rows x 13 columns]"
            ]
          },
          "metadata": {
            "tags": []
          },
          "execution_count": 37
        }
      ]
    },
    {
      "cell_type": "markdown",
      "metadata": {
        "id": "O-2VTbG_ofEC"
      },
      "source": [
        "###3.Скільки % записів у ваших колонках є пусті / null ? Вивдеіть для кожного стовпця відсоток таких записів (df.isnull) Якщо таких записів більше 50% - вартує видалити такий стовпець чи ні ? Якщо так - видаліть.\n",
        " "
      ]
    },
    {
      "cell_type": "code",
      "metadata": {
        "id": "nNNk6cxVogga",
        "colab": {
          "base_uri": "https://localhost:8080/",
          "height": 437
        },
        "outputId": "0989a20c-b5bb-42e8-d91e-05dfb400d7a1"
      },
      "source": [
        "total_rows = len(dataset['name'])\r\n",
        "pd.isnull(dataset).sum().to_frame('Nulls percentage')/total_rows*100"
      ],
      "execution_count": null,
      "outputs": [
        {
          "output_type": "execute_result",
          "data": {
            "text/html": [
              "<div>\n",
              "<style scoped>\n",
              "    .dataframe tbody tr th:only-of-type {\n",
              "        vertical-align: middle;\n",
              "    }\n",
              "\n",
              "    .dataframe tbody tr th {\n",
              "        vertical-align: top;\n",
              "    }\n",
              "\n",
              "    .dataframe thead th {\n",
              "        text-align: right;\n",
              "    }\n",
              "</style>\n",
              "<table border=\"1\" class=\"dataframe\">\n",
              "  <thead>\n",
              "    <tr style=\"text-align: right;\">\n",
              "      <th></th>\n",
              "      <th>Nulls percentage</th>\n",
              "    </tr>\n",
              "  </thead>\n",
              "  <tbody>\n",
              "    <tr>\n",
              "      <th>budget</th>\n",
              "      <td>0.0</td>\n",
              "    </tr>\n",
              "    <tr>\n",
              "      <th>company</th>\n",
              "      <td>0.0</td>\n",
              "    </tr>\n",
              "    <tr>\n",
              "      <th>country</th>\n",
              "      <td>0.0</td>\n",
              "    </tr>\n",
              "    <tr>\n",
              "      <th>director</th>\n",
              "      <td>0.0</td>\n",
              "    </tr>\n",
              "    <tr>\n",
              "      <th>genre</th>\n",
              "      <td>0.0</td>\n",
              "    </tr>\n",
              "    <tr>\n",
              "      <th>gross</th>\n",
              "      <td>0.0</td>\n",
              "    </tr>\n",
              "    <tr>\n",
              "      <th>name</th>\n",
              "      <td>0.0</td>\n",
              "    </tr>\n",
              "    <tr>\n",
              "      <th>released</th>\n",
              "      <td>0.0</td>\n",
              "    </tr>\n",
              "    <tr>\n",
              "      <th>runtime</th>\n",
              "      <td>0.0</td>\n",
              "    </tr>\n",
              "    <tr>\n",
              "      <th>score</th>\n",
              "      <td>0.0</td>\n",
              "    </tr>\n",
              "    <tr>\n",
              "      <th>star</th>\n",
              "      <td>0.0</td>\n",
              "    </tr>\n",
              "    <tr>\n",
              "      <th>votes</th>\n",
              "      <td>0.0</td>\n",
              "    </tr>\n",
              "    <tr>\n",
              "      <th>year</th>\n",
              "      <td>0.0</td>\n",
              "    </tr>\n",
              "  </tbody>\n",
              "</table>\n",
              "</div>"
            ],
            "text/plain": [
              "          Nulls percentage\n",
              "budget                 0.0\n",
              "company                0.0\n",
              "country                0.0\n",
              "director               0.0\n",
              "genre                  0.0\n",
              "gross                  0.0\n",
              "name                   0.0\n",
              "released               0.0\n",
              "runtime                0.0\n",
              "score                  0.0\n",
              "star                   0.0\n",
              "votes                  0.0\n",
              "year                   0.0"
            ]
          },
          "metadata": {
            "tags": []
          },
          "execution_count": 38
        }
      ]
    },
    {
      "cell_type": "markdown",
      "metadata": {
        "id": "RE_GE7Nsogzr"
      },
      "source": [
        "\n",
        "###4.Перевірте свої записи на дублікати . Якщо такі є - це помилкові записи чи подібні але окремі ? (df.duplicated) Чи є у вас колонки з різними назвами але які містять одинакову інформацію ?\n"
      ]
    },
    {
      "cell_type": "code",
      "metadata": {
        "id": "mgnNuLE_oiAT",
        "colab": {
          "base_uri": "https://localhost:8080/",
          "height": 167
        },
        "outputId": "634dd4a4-be65-4b53-8c38-6e89caba282c"
      },
      "source": [
        "duplicates_total = dataset[dataset.duplicated()]\r\n",
        "duplicates_names = dataset[dataset.duplicated(['name'])]\r\n",
        "duplicates_coordinates=dataset[dataset.duplicated(['name','director'])]\r\n",
        "duplicates_names\r\n"
      ],
      "execution_count": null,
      "outputs": [
        {
          "output_type": "execute_result",
          "data": {
            "text/html": [
              "<div>\n",
              "<style scoped>\n",
              "    .dataframe tbody tr th:only-of-type {\n",
              "        vertical-align: middle;\n",
              "    }\n",
              "\n",
              "    .dataframe tbody tr th {\n",
              "        vertical-align: top;\n",
              "    }\n",
              "\n",
              "    .dataframe thead th {\n",
              "        text-align: right;\n",
              "    }\n",
              "</style>\n",
              "<table border=\"1\" class=\"dataframe\">\n",
              "  <thead>\n",
              "    <tr style=\"text-align: right;\">\n",
              "      <th></th>\n",
              "      <th>budget</th>\n",
              "      <th>company</th>\n",
              "      <th>country</th>\n",
              "      <th>director</th>\n",
              "      <th>genre</th>\n",
              "      <th>gross</th>\n",
              "      <th>name</th>\n",
              "      <th>released</th>\n",
              "      <th>runtime</th>\n",
              "      <th>score</th>\n",
              "      <th>star</th>\n",
              "      <th>votes</th>\n",
              "      <th>year</th>\n",
              "    </tr>\n",
              "  </thead>\n",
              "  <tbody>\n",
              "    <tr>\n",
              "      <th>1652</th>\n",
              "      <td>0</td>\n",
              "      <td>PolyGram Filmed Entertainment</td>\n",
              "      <td>USA</td>\n",
              "      <td>Nicholas Kazan</td>\n",
              "      <td>Drama</td>\n",
              "      <td>256264</td>\n",
              "      <td>Dream Lover</td>\n",
              "      <td>5/6/1994</td>\n",
              "      <td>103</td>\n",
              "      <td>6.2</td>\n",
              "      <td>James Spader</td>\n",
              "      <td>3327</td>\n",
              "      <td>1993</td>\n",
              "    </tr>\n",
              "    <tr>\n",
              "      <th>1730</th>\n",
              "      <td>9000000</td>\n",
              "      <td>StudioCanal</td>\n",
              "      <td>USA</td>\n",
              "      <td>James B. Harris</td>\n",
              "      <td>Action</td>\n",
              "      <td>10058318</td>\n",
              "      <td>Boiling Point</td>\n",
              "      <td>4/16/1993</td>\n",
              "      <td>92</td>\n",
              "      <td>4.9</td>\n",
              "      <td>Wesley Snipes</td>\n",
              "      <td>4831</td>\n",
              "      <td>1993</td>\n",
              "    </tr>\n",
              "    <tr>\n",
              "      <th>1866</th>\n",
              "      <td>20000000</td>\n",
              "      <td>Capella International</td>\n",
              "      <td>USA</td>\n",
              "      <td>Robert Benton</td>\n",
              "      <td>Comedy</td>\n",
              "      <td>39487686</td>\n",
              "      <td>Nobody's Fool</td>\n",
              "      <td>1/13/1995</td>\n",
              "      <td>110</td>\n",
              "      <td>7.4</td>\n",
              "      <td>Paul Newman</td>\n",
              "      <td>15759</td>\n",
              "      <td>1994</td>\n",
              "    </tr>\n",
              "    <tr>\n",
              "      <th>1984</th>\n",
              "      <td>60000000</td>\n",
              "      <td>Warner Bros.</td>\n",
              "      <td>USA</td>\n",
              "      <td>Michael Mann</td>\n",
              "      <td>Action</td>\n",
              "      <td>67436818</td>\n",
              "      <td>Heat</td>\n",
              "      <td>12/15/1995</td>\n",
              "      <td>170</td>\n",
              "      <td>8.2</td>\n",
              "      <td>Al Pacino</td>\n",
              "      <td>470080</td>\n",
              "      <td>1995</td>\n",
              "    </tr>\n",
              "  </tbody>\n",
              "</table>\n",
              "</div>"
            ],
            "text/plain": [
              "        budget                        company  ...   votes  year\n",
              "1652         0  PolyGram Filmed Entertainment  ...    3327  1993\n",
              "1730   9000000                    StudioCanal  ...    4831  1993\n",
              "1866  20000000          Capella International  ...   15759  1994\n",
              "1984  60000000                   Warner Bros.  ...  470080  1995\n",
              "\n",
              "[4 rows x 13 columns]"
            ]
          },
          "metadata": {
            "tags": []
          },
          "execution_count": 39
        }
      ]
    },
    {
      "cell_type": "markdown",
      "metadata": {
        "id": "2vkcohsnoiHG"
      },
      "source": [
        "###5.Чи є у вас помилки у назвах колонок - якщо так виправте перейменувавши їх\n",
        "\n"
      ]
    },
    {
      "cell_type": "code",
      "metadata": {
        "id": "kx-D8FJ4ojiR"
      },
      "source": [
        ""
      ],
      "execution_count": null,
      "outputs": []
    },
    {
      "cell_type": "markdown",
      "metadata": {
        "id": "np7IITHeojql"
      },
      "source": [
        "###6.Перегляньти значення категорій якщо стовпці з такими даними є. Чи вони справді унікальні чи є помилкові дублікати ? ( приклади: model i Model , NA i NotAssesed, New-York i New York )\n",
        "\n",
        "\n"
      ]
    },
    {
      "cell_type": "code",
      "metadata": {
        "id": "vKbFUrg6olc6",
        "colab": {
          "base_uri": "https://localhost:8080/"
        },
        "outputId": "1f7ed875-d570-411e-9b64-0ab17b3d74dc"
      },
      "source": [
        "print('Genres:', dataset['genre'].unique())\r\n",
        "print('\\nCountry:', dataset['country'].unique())\r\n",
        "# print('\\nCompanies:', dataset['company'].unique())\r\n",
        "# print('\\nDirectors:', dataset['director'].unique())\r\n",
        "# print('\\nStars:', dataset['star'].unique())\r\n"
      ],
      "execution_count": null,
      "outputs": [
        {
          "output_type": "stream",
          "text": [
            "Genres: ['Adventure' 'Comedy' 'Action' 'Drama' 'Crime' 'Thriller' 'Horror'\n",
            " 'Animation' 'Biography' 'Sci-Fi' 'Musical' 'Family' 'Fantasy' 'Mystery'\n",
            " 'War' 'Romance' 'Western']\n",
            "\n",
            "Country: ['USA' 'UK' 'Australia' 'Italy' 'France' 'Sweden' 'Japan' 'Spain'\n",
            " 'Switzerland' 'Canada' 'Israel' 'Netherlands' 'Argentina' 'Denmark'\n",
            " 'West Germany' 'Hong Kong' 'Belgium' 'Ireland' 'South Africa' 'Hungary'\n",
            " 'Iran' 'New Zealand' 'Germany' 'China' 'Peru' 'Soviet Union' 'Mexico'\n",
            " 'Brazil' 'Taiwan' 'India' 'Austria' 'Portugal' 'Cuba'\n",
            " 'Republic of Macedonia' 'Russia']\n"
          ],
          "name": "stdout"
        }
      ]
    },
    {
      "cell_type": "markdown",
      "metadata": {
        "id": "wptzV3Iqoln8"
      },
      "source": [
        "###7. В рамках 2 лабораторної чи у вас в даних є [outliers](https://towardsdatascience.com/ways-to-detect-and-remove-the-outliers-404d16608dba) ? Якщо є - заберіть  той % або кількість яка у вашому випадку оптимальна\n"
      ]
    },
    {
      "cell_type": "code",
      "metadata": {
        "id": "BJq2iRaKonBJ",
        "colab": {
          "base_uri": "https://localhost:8080/",
          "height": 548
        },
        "outputId": "f56c3572-d757-49b8-e08b-dcb46195b4c6"
      },
      "source": [
        "#removing movies with budget equals to 0\r\n",
        "print('\\nNumber of rows before removing movies with zero budget:',len(dataset.index))\r\n",
        "dataset = dataset.loc[dataset['budget'] != 0]\r\n",
        "print('Number of rows after removing movies with zero budget:',len(dataset.index))\r\n",
        "dataset.head()\r\n",
        "#detect outliers\r\n",
        "import seaborn as sns\r\n",
        "sns.boxplot(x=dataset['budget'])\r\n",
        "limit = 30000000\r\n",
        "print('Number of rows before removing outliers:',len(dataset.index))\r\n",
        "dataset = dataset.loc[dataset['budget'] < limit]\r\n",
        "print('Number of rows after removing outliers:',len(dataset.index))\r\n",
        "dataset.head()\r\n",
        "\r\n"
      ],
      "execution_count": null,
      "outputs": [
        {
          "output_type": "stream",
          "text": [
            "\n",
            "Number of rows before removing movies with zero budget: 1999\n",
            "Number of rows after removing movies with zero budget: 991\n",
            "Number of rows before removing outliers: 991\n",
            "Number of rows after removing outliers: 796\n"
          ],
          "name": "stdout"
        },
        {
          "output_type": "execute_result",
          "data": {
            "text/html": [
              "<div>\n",
              "<style scoped>\n",
              "    .dataframe tbody tr th:only-of-type {\n",
              "        vertical-align: middle;\n",
              "    }\n",
              "\n",
              "    .dataframe tbody tr th {\n",
              "        vertical-align: top;\n",
              "    }\n",
              "\n",
              "    .dataframe thead th {\n",
              "        text-align: right;\n",
              "    }\n",
              "</style>\n",
              "<table border=\"1\" class=\"dataframe\">\n",
              "  <thead>\n",
              "    <tr style=\"text-align: right;\">\n",
              "      <th></th>\n",
              "      <th>budget</th>\n",
              "      <th>company</th>\n",
              "      <th>country</th>\n",
              "      <th>director</th>\n",
              "      <th>genre</th>\n",
              "      <th>gross</th>\n",
              "      <th>name</th>\n",
              "      <th>released</th>\n",
              "      <th>runtime</th>\n",
              "      <th>score</th>\n",
              "      <th>star</th>\n",
              "      <th>votes</th>\n",
              "      <th>year</th>\n",
              "    </tr>\n",
              "  </thead>\n",
              "  <tbody>\n",
              "    <tr>\n",
              "      <th>0</th>\n",
              "      <td>8000000</td>\n",
              "      <td>Columbia Pictures Corporation</td>\n",
              "      <td>USA</td>\n",
              "      <td>Rob Reiner</td>\n",
              "      <td>Adventure</td>\n",
              "      <td>52287414</td>\n",
              "      <td>Stand by Me</td>\n",
              "      <td>8/22/1986</td>\n",
              "      <td>89</td>\n",
              "      <td>8.1</td>\n",
              "      <td>Wil Wheaton</td>\n",
              "      <td>299174</td>\n",
              "      <td>1986</td>\n",
              "    </tr>\n",
              "    <tr>\n",
              "      <th>1</th>\n",
              "      <td>6000000</td>\n",
              "      <td>Paramount Pictures</td>\n",
              "      <td>USA</td>\n",
              "      <td>John Hughes</td>\n",
              "      <td>Comedy</td>\n",
              "      <td>70136369</td>\n",
              "      <td>Ferris Bueller's Day Off</td>\n",
              "      <td>6/11/1986</td>\n",
              "      <td>103</td>\n",
              "      <td>7.8</td>\n",
              "      <td>Matthew Broderick</td>\n",
              "      <td>264740</td>\n",
              "      <td>1986</td>\n",
              "    </tr>\n",
              "    <tr>\n",
              "      <th>2</th>\n",
              "      <td>15000000</td>\n",
              "      <td>Paramount Pictures</td>\n",
              "      <td>USA</td>\n",
              "      <td>Tony Scott</td>\n",
              "      <td>Action</td>\n",
              "      <td>179800601</td>\n",
              "      <td>Top Gun</td>\n",
              "      <td>5/16/1986</td>\n",
              "      <td>110</td>\n",
              "      <td>6.9</td>\n",
              "      <td>Tom Cruise</td>\n",
              "      <td>236909</td>\n",
              "      <td>1986</td>\n",
              "    </tr>\n",
              "    <tr>\n",
              "      <th>3</th>\n",
              "      <td>18500000</td>\n",
              "      <td>Twentieth Century Fox Film Corporation</td>\n",
              "      <td>USA</td>\n",
              "      <td>James Cameron</td>\n",
              "      <td>Action</td>\n",
              "      <td>85160248</td>\n",
              "      <td>Aliens</td>\n",
              "      <td>7/18/1986</td>\n",
              "      <td>137</td>\n",
              "      <td>8.4</td>\n",
              "      <td>Sigourney Weaver</td>\n",
              "      <td>540152</td>\n",
              "      <td>1986</td>\n",
              "    </tr>\n",
              "    <tr>\n",
              "      <th>4</th>\n",
              "      <td>9000000</td>\n",
              "      <td>Walt Disney Pictures</td>\n",
              "      <td>USA</td>\n",
              "      <td>Randal Kleiser</td>\n",
              "      <td>Adventure</td>\n",
              "      <td>18564613</td>\n",
              "      <td>Flight of the Navigator</td>\n",
              "      <td>8/1/1986</td>\n",
              "      <td>90</td>\n",
              "      <td>6.9</td>\n",
              "      <td>Joey Cramer</td>\n",
              "      <td>36636</td>\n",
              "      <td>1986</td>\n",
              "    </tr>\n",
              "  </tbody>\n",
              "</table>\n",
              "</div>"
            ],
            "text/plain": [
              "     budget                                 company  ...   votes  year\n",
              "0   8000000           Columbia Pictures Corporation  ...  299174  1986\n",
              "1   6000000                      Paramount Pictures  ...  264740  1986\n",
              "2  15000000                      Paramount Pictures  ...  236909  1986\n",
              "3  18500000  Twentieth Century Fox Film Corporation  ...  540152  1986\n",
              "4   9000000                    Walt Disney Pictures  ...   36636  1986\n",
              "\n",
              "[5 rows x 13 columns]"
            ]
          },
          "metadata": {
            "tags": []
          },
          "execution_count": 42
        },
        {
          "output_type": "display_data",
          "data": {
            "image/png": "[encoded data removed]",
            "text/plain": [
              "<Figure size 432x288 with 1 Axes>"
            ]
          },
          "metadata": {
            "tags": [],
            "needs_background": "light"
          }
        }
      ]
    },
    {
      "cell_type": "markdown",
      "metadata": {
        "id": "9JpplubIonJZ"
      },
      "source": [
        "###8.Чи є у вас колонки з непраивльними / пропущеними  значеннями ? Якщо так , тоді опрацюйте їх в [залежності від умови і типу даних](https://towardsdatascience.com/data-cleaning-with-python-and-pandas-detecting-missing-values-3e9c6ebcf78b)"
      ]
    },
    {
      "cell_type": "code",
      "metadata": {
        "id": "YtNE3V0konmj"
      },
      "source": [
        ""
      ],
      "execution_count": null,
      "outputs": []
    }
  ]
}