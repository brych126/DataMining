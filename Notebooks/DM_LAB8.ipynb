{
  "nbformat": 4,
  "nbformat_minor": 0,
  "metadata": {
    "colab": {
      "name": "DM_LAB8.ipynb",
      "provenance": [],
      "collapsed_sections": []
    },
    "kernelspec": {
      "name": "python3",
      "display_name": "Python 3"
    }
  },
  "cells": [
    {
      "cell_type": "markdown",
      "metadata": {
        "id": "T7vUYmK-nP0_"
      },
      "source": [
        "# Лабораторна робота №8 з Видобування даних\n",
        "## Розгортання та презентація\n",
        "### Мета роботи: використати створену модель для веб-сервісу / програми або предствити дослідницькі результати у вигляді презентації\n",
        "### Для збережння стану натренованої моделі ми використаємо [pickle](https://scikit-learn.org/stable/modules/model_persistence.html) - стандартний інструмент для серіалізації у python\n",
        "### Збережену модель потрібно [завантажити і використати у вашому коді](https://medium.com/datadriveninvestor/machine-learning-how-to-save-and-load-scikit-learn-models-d7b99bc32c27) який буде надавати доступ - чи це REST API чи користувацька дескотпна програма чи мобільний додаток \n",
        "### разом з кодом має бути наданий файл моделі і демонстрація роботи (чи запис відео з роботою програми або запитів постмана або асистентам показати у скайпі)\n",
        "\n",
        "### NB! Також якщо ви робите EDA і у вас немає робочої моделі бо ви більше займієтеся описом і дослідженням даних вам вартує зробити більше візуалізацій для презентацій\n"
      ]
    },
    {
      "cell_type": "markdown",
      "metadata": {
        "id": "hMkBHaEBoRL3"
      },
      "source": [
        "###1.Дана лабораторна виконується у окремому середовищі - в разі проблем з його налаштуванням / використанням - пишіть."
      ]
    },
    {
      "cell_type": "markdown",
      "metadata": {
        "id": "2uGYY19QeGE3"
      },
      "source": [
        "Look here: https://github.com/brych126/DataMining/tree/main/app"
      ]
    }
  ]
}